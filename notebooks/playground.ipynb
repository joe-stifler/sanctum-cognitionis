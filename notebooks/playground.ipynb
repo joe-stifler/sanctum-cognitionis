{
 "cells": [
  {
   "cell_type": "code",
   "execution_count": 1,
   "metadata": {},
   "outputs": [],
   "source": [
    "import google.generativeai as genai\n",
    "from google.ai.generativelanguage import Part, Blob\n",
    "\n",
    "# load from dotenv\n",
    "import os\n",
    "from dotenv import load_dotenv\n",
    "\n",
    "load_dotenv()\n",
    "\n",
    "genai.configure(api_key=os.environ[\"GOOGLE_API_KEY\"])"
   ]
  },
  {
   "cell_type": "code",
   "execution_count": 2,
   "metadata": {},
   "outputs": [],
   "source": [
    "model = genai.types.GenerationConfig()"
   ]
  },
  {
   "cell_type": "code",
   "execution_count": 3,
   "metadata": {},
   "outputs": [],
   "source": [
    "from google.generativeai.types import HarmCategory, HarmBlockThreshold"
   ]
  },
  {
   "cell_type": "code",
   "execution_count": null,
   "metadata": {},
   "outputs": [],
   "source": []
  },
  {
   "cell_type": "code",
   "execution_count": null,
   "metadata": {},
   "outputs": [],
   "source": [
    "for model in genai.list_models():\n",
    "    print(model)"
   ]
  },
  {
   "cell_type": "code",
   "execution_count": null,
   "metadata": {},
   "outputs": [],
   "source": [
    "!pip install pdf2image"
   ]
  },
  {
   "cell_type": "code",
   "execution_count": null,
   "metadata": {},
   "outputs": [],
   "source": [
    "from google.ai.generativelanguage import Part, Blob"
   ]
  },
  {
   "cell_type": "code",
   "execution_count": null,
   "metadata": {},
   "outputs": [],
   "source": [
    "# load pdf from disk as bytes\n",
    "import io\n",
    "\n",
    "with open(\"relatorio_nicolas_unicamp_fase_1_2023.pdf\", \"rb\") as f:\n",
    "    pdf_bytes = f.read()"
   ]
  },
  {
   "cell_type": "code",
   "execution_count": null,
   "metadata": {},
   "outputs": [],
   "source": [
    "# import display from ipykernel\n",
    "from IPython.display import display\n",
    "\n",
    "# import markdown from IPython.display\n",
    "from IPython.display import Markdown\n",
    "\n",
    "#\n",
    "# display(Markdown(str(pdf_bytes)))"
   ]
  },
  {
   "cell_type": "code",
   "execution_count": null,
   "metadata": {},
   "outputs": [],
   "source": [
    "pip install pypdf"
   ]
  },
  {
   "cell_type": "code",
   "execution_count": null,
   "metadata": {},
   "outputs": [],
   "source": [
    "from pdf2image import convert_from_bytes\n",
    "from io import BytesIO\n",
    "from PIL import Image\n",
    "\n",
    "\n",
    "def pdf_to_image_array(pdf_bytes):\n",
    "    \"\"\"Converts a PDF file to an array of images (in memory).\n",
    "\n",
    "    Args:\n",
    "        pdf_file_path (str): Path to the PDF file.\n",
    "\n",
    "    Returns:\n",
    "        list: A list of PIL Image objects, one for each page.\n",
    "    \"\"\"\n",
    "\n",
    "    images = convert_from_bytes(pdf_bytes, fmt=\"jpg\")\n",
    "\n",
    "    image_array = [Image.open(BytesIO(image.fp.read())) for image in images]\n",
    "    return image_array"
   ]
  },
  {
   "cell_type": "code",
   "execution_count": null,
   "metadata": {},
   "outputs": [],
   "source": [
    "pip install PyMuPDF\n"
   ]
  },
  {
   "cell_type": "code",
   "execution_count": null,
   "metadata": {},
   "outputs": [],
   "source": [
    "# jpeg_options = {\n",
    "#     \"quality\": 85,  # Set the quality to 85\n",
    "#     \"optimize\": True,  # Optimize the image\n",
    "#     \"progressive\": True,  # Create progressive JPEG\n",
    "# }\n",
    "# results = convert_from_bytes(\n",
    "#     pdf_bytes,\n",
    "#     fmt=\"jpeg\",\n",
    "#     dpi=300,\n",
    "#     jpegopt=jpeg_options,\n",
    "#     thread_count=4,\n",
    "# )"
   ]
  },
  {
   "cell_type": "code",
   "execution_count": null,
   "metadata": {},
   "outputs": [],
   "source": []
  },
  {
   "cell_type": "code",
   "execution_count": null,
   "metadata": {},
   "outputs": [],
   "source": [
    "import fitz  # PyMuPDF\n",
    "from PIL import Image\n",
    "import io\n",
    "\n",
    "\n",
    "def pdf_to_images(pdf_bytes, scale_factor=1.0, jpeg_quality=100):\n",
    "    \"\"\"\n",
    "    Convert a PDF in bytes to a list of scaled PIL images.\n",
    "\n",
    "    Parameters:\n",
    "    - pdf_bytes: bytes of the PDF\n",
    "    - scale_factor: float, scale factor to resize the images (default: 0.5)\n",
    "    - jpeg_quality: int, quality of the output JPEG images (default: 85)\n",
    "\n",
    "    Returns:\n",
    "    - List of PIL Image objects\n",
    "    \"\"\"\n",
    "    pdf_document = fitz.open(stream=pdf_bytes, filetype=\"pdf\")\n",
    "    images = []\n",
    "\n",
    "    for page_num in range(len(pdf_document)):\n",
    "        page = pdf_document.load_page(page_num)  # Load the page\n",
    "        mat = fitz.Matrix(scale_factor, scale_factor)  # Scale the page\n",
    "        pix = page.get_pixmap(matrix=mat)  # Render the page to an image\n",
    "\n",
    "        # Convert pixmap to PIL Image\n",
    "        img = Image.frombytes(\"RGB\", [pix.width, pix.height], pix.samples)\n",
    "\n",
    "        img_buffer = io.BytesIO()\n",
    "\n",
    "        # Convert to JPEG format in memory to apply jpeg options\n",
    "        img.save(\n",
    "            img_buffer, \"JPEG\", quality=jpeg_quality, optimize=True, progressive=True\n",
    "        )\n",
    "        img_buffer.seek(0)\n",
    "        images.append(Image.open(img_buffer))\n",
    "\n",
    "    return images"
   ]
  },
  {
   "cell_type": "code",
   "execution_count": null,
   "metadata": {},
   "outputs": [],
   "source": [
    "# Convert PDF bytes to images\n",
    "image_buffers = pdf_to_images(pdf_bytes)"
   ]
  },
  {
   "cell_type": "code",
   "execution_count": null,
   "metadata": {},
   "outputs": [],
   "source": [
    "image_buffers[0]"
   ]
  },
  {
   "cell_type": "code",
   "execution_count": null,
   "metadata": {},
   "outputs": [],
   "source": [
    "def pdf_to_text(pdf_bytes):\n",
    "    pdf_document = fitz.open(stream=pdf_bytes, filetype=\"pdf\")\n",
    "    text = \"\"\n",
    "    for page_num in range(len(pdf_document)):\n",
    "        page = pdf_document.load_page(page_num)\n",
    "        text += page.get_text()\n",
    "    return text"
   ]
  },
  {
   "cell_type": "code",
   "execution_count": null,
   "metadata": {},
   "outputs": [],
   "source": [
    "text_output = pdf_to_text(pdf_bytes)"
   ]
  },
  {
   "cell_type": "code",
   "execution_count": null,
   "metadata": {},
   "outputs": [],
   "source": [
    "display(Markdown(text_output))"
   ]
  },
  {
   "cell_type": "code",
   "execution_count": 1,
   "metadata": {},
   "outputs": [],
   "source": [
    "from google.generativeai.types import HarmCategory, HarmBlockThreshold"
   ]
  },
  {
   "cell_type": "code",
   "execution_count": null,
   "metadata": {},
   "outputs": [],
   "source": []
  }
 ],
 "metadata": {
  "kernelspec": {
   "display_name": "sanctum-cognitionis",
   "language": "python",
   "name": "python3"
  },
  "language_info": {
   "codemirror_mode": {
    "name": "ipython",
    "version": 3
   },
   "file_extension": ".py",
   "mimetype": "text/x-python",
   "name": "python",
   "nbconvert_exporter": "python",
   "pygments_lexer": "ipython3",
   "version": "3.10.14"
  }
 },
 "nbformat": 4,
 "nbformat_minor": 2
}
