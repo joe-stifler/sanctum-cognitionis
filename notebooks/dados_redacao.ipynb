{
 "cells": [
  {
   "cell_type": "code",
   "execution_count": 1,
   "metadata": {},
   "outputs": [],
   "source": [
    "from servitium_cognitionis.llms.mock import LLMMockFamily\n",
    "from servitium_cognitionis.llms.gemini import LLMGeminiFamily\n",
    "from servitium_cognitionis.personas.persona_base import Persona"
   ]
  },
  {
   "cell_type": "code",
   "execution_count": 2,
   "metadata": {},
   "outputs": [],
   "source": [
    "persona_dani = Persona.from_json(\n",
    "    \"../dados/personas/professores/redacao/dani-stella/persona_config.json\"\n",
    ")"
   ]
  },
  {
   "cell_type": "code",
   "execution_count": 3,
   "metadata": {},
   "outputs": [],
   "source": [
    "llm_family = LLMGeminiFamily()\n",
    "llm_model = llm_family.get_model(persona_dani.thought_process)"
   ]
  },
  {
   "cell_type": "code",
   "execution_count": 4,
   "metadata": {},
   "outputs": [
    {
     "name": "stdout",
     "output_type": "stream",
     "text": [
      "gemini-1.5-pro-preview-0409\n"
     ]
    }
   ],
   "source": [
    "print(llm_model)"
   ]
  },
  {
   "cell_type": "code",
   "execution_count": 5,
   "metadata": {},
   "outputs": [],
   "source": [
    "llm_model.initialize_model(\n",
    "    system_instruction=persona_dani.present_initial_state(),\n",
    "    temperature=persona_dani.creativity_level,\n",
    "    max_output_tokens=persona_dani.speech_conciseness,\n",
    ")"
   ]
  },
  {
   "cell_type": "code",
   "execution_count": 6,
   "metadata": {},
   "outputs": [],
   "source": [
    "session_id = 1\n",
    "llm_model.create_chat(session_id)"
   ]
  },
  {
   "cell_type": "code",
   "execution_count": 7,
   "metadata": {},
   "outputs": [],
   "source": [
    "from IPython.display import Markdown\n",
    "\n",
    "\n",
    "def print_as_markdown(text):\n",
    "    previous_line = \"\"\n",
    "    for t, _ in text:\n",
    "        lines = t.split(\"\\n\")\n",
    "        # Concatenate previous line with the first line of the current text\n",
    "        if previous_line:\n",
    "            lines[0] = previous_line + lines[0]\n",
    "        # Display all lines except the last one\n",
    "        for line in lines[:-1]:\n",
    "            if len(line) > 0:\n",
    "                display(Markdown(line))\n",
    "        # Store the last line for the next iteration\n",
    "        previous_line = lines[-1]\n",
    "    # Display the last line after the loop finishes\n",
    "    if previous_line and len(previous_line) > 0:\n",
    "        display(Markdown(previous_line))"
   ]
  },
  {
   "cell_type": "code",
   "execution_count": 8,
   "metadata": {},
   "outputs": [
    {
     "data": {
      "text/markdown": [
       "Olá! Tudo bem sim, e com você? 😊 "
      ],
      "text/plain": [
       "<IPython.core.display.Markdown object>"
      ]
     },
     "metadata": {},
     "output_type": "display_data"
    }
   ],
   "source": [
    "print_as_markdown(\n",
    "    llm_model.send_stream_single_message(\"olá querida professora, tudo bem?\")\n",
    ")"
   ]
  },
  {
   "cell_type": "code",
   "execution_count": 9,
   "metadata": {},
   "outputs": [],
   "source": [
    "# create a method to open a file and load it as a string\n",
    "def load_file_as_string(file_path):\n",
    "    with open(file_path, \"r\") as file:\n",
    "        return f\"file: {file_path}:\\n\\n\" + file.read()"
   ]
  },
  {
   "cell_type": "code",
   "execution_count": 10,
   "metadata": {},
   "outputs": [
    {
     "name": "stdout",
     "output_type": "stream",
     "text": [
      "dados_redacao.ipynb\t random_playground.ipynb  texto_a_proposta_1_2018.png\n",
      "notion_playground.ipynb  text_extraction.ipynb\n"
     ]
    }
   ],
   "source": [
    "!ls"
   ]
  },
  {
   "cell_type": "code",
   "execution_count": 27,
   "metadata": {},
   "outputs": [],
   "source": [
    "from vertexai.generative_models import Part, Image\n",
    "\n",
    "redacao_unicamp_arquivos = [\n",
    "    \"Exemplo de formatação dos arquivos json: \\n\\n\",\n",
    "    load_file_as_string(\n",
    "        \"../dados/vestibulares/unicamp/redacao/2021/2021_CQ_RED-3_proposta_2.json\"\n",
    "    ),\n",
    "    \"\\n\\n----\\n\\n\",\n",
    "    load_file_as_string(\n",
    "        \"../dados/vestibulares/unicamp/redacao/2019/2019_proposta_1.md\",\n",
    "    ),\n",
    "    \"\\n\\n\",\n",
    "    \"História em quadrinhos da coletânea 2: \\n\\n\",\n",
    "    Image.load_from_file(\n",
    "        \"../dados/vestibulares/unicamp/redacao/2019/imagem_coletanea_2_2019_proposta_1.png\"\n",
    "    ),\n",
    "    \"\\n\\n\",\n",
    "    load_file_as_string(\n",
    "        \"../dados/vestibulares/unicamp/redacao/2019/2019_proposta_1.json\"\n",
    "    ),\n",
    "    \"\"\"\\n\\n----\\n\n",
    "Dani, analise o arquivo da segunda proposta de 2021 acima para entender o formato dos arquivos json esperados\n",
    "para as minhas redações. Então, analise o arquivo markdown da primeira proposta de 2019 acima para então \n",
    "finalizar a criação da seção de coletanea do arquivo json da primeira proposta de 2019 acima. Então \n",
    "dê como resposta o arquivo json finalizado, contudo apenas a parte da coletanea. Assegure que o conteudo preenchido para a seção de 'contexto_textual' seja uma copia exata do conteudo da respectiva coletanea no arquivo markdown. Adiciono acima também a história em quadrinhos das coletânea 2.\n",
    "    \"\"\",\n",
    "]"
   ]
  },
  {
   "cell_type": "code",
   "execution_count": null,
   "metadata": {},
   "outputs": [],
   "source": [
    "results = llm_model.send_stream_chat_message(session_id, redacao_unicamp_arquivos)\n",
    "print_as_markdown(results)"
   ]
  },
  {
   "cell_type": "code",
   "execution_count": null,
   "metadata": {},
   "outputs": [],
   "source": [
    "str_stats = []"
   ]
  },
  {
   "cell_type": "code",
   "execution_count": 32,
   "metadata": {},
   "outputs": [],
   "source": [
    "# code to extract all the text content from a pdf\n",
    "results = llm_model.send_stream_single_message(\n",
    "    \"generate a python code to extract all the text content from a pdf. Forneça o código completo em python\"\n",
    ")"
   ]
  },
  {
   "cell_type": "code",
   "execution_count": 31,
   "metadata": {},
   "outputs": [
    {
     "name": "stdout",
     "output_type": "stream",
     "text": [
      "Collecting pypdf2\n",
      "  Downloading pypdf2-3.0.1-py3-none-any.whl.metadata (6.8 kB)\n",
      "Downloading pypdf2-3.0.1-py3-none-any.whl (232 kB)\n",
      "\u001b[2K   \u001b[38;2;114;156;31m━━━━━━━━━━━━━━━━━━━━━━━━━━━━━━━━━━━━━━━\u001b[0m \u001b[32m232.6/232.6 kB\u001b[0m \u001b[31m670.1 kB/s\u001b[0m eta \u001b[36m0:00:00\u001b[0m1m695.7 kB/s\u001b[0m eta \u001b[36m0:00:01\u001b[0m\n",
      "\u001b[?25hInstalling collected packages: pypdf2\n",
      "Successfully installed pypdf2-3.0.1\n"
     ]
    }
   ],
   "source": [
    "!pip install pypdf2"
   ]
  },
  {
   "cell_type": "code",
   "execution_count": 35,
   "metadata": {},
   "outputs": [],
   "source": [
    "import PyPDF2\n",
    "\n",
    "\n",
    "def extrair_pdf(file_path):\n",
    "    with open(file_path, \"rb\") as arquivo_pdf:\n",
    "        leitor_pdf = PyPDF2.PdfReader(arquivo_pdf)\n",
    "        texto = \"\"\n",
    "        for num_pagina in range(len(leitor_pdf.pages)):\n",
    "            pagina = leitor_pdf.pages[num_pagina]\n",
    "            texto += pagina.extract_text()\n",
    "        return texto"
   ]
  },
  {
   "cell_type": "code",
   "execution_count": 39,
   "metadata": {},
   "outputs": [],
   "source": [
    "pdf_content = extrair_pdf(\n",
    "    \"../dados/vestibulares/unicamp/redacao/2018/Relatorio_2_Fase_site.pdf\"\n",
    ")"
   ]
  }
 ],
 "metadata": {
  "kernelspec": {
   "display_name": "sanctum-cognitionis",
   "language": "python",
   "name": "python3"
  },
  "language_info": {
   "codemirror_mode": {
    "name": "ipython",
    "version": 3
   },
   "file_extension": ".py",
   "mimetype": "text/x-python",
   "name": "python",
   "nbconvert_exporter": "python",
   "pygments_lexer": "ipython3",
   "version": "3.10.14"
  }
 },
 "nbformat": 4,
 "nbformat_minor": 2
}
