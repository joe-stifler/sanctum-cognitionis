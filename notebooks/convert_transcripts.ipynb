{
 "cells": [
  {
   "cell_type": "code",
   "execution_count": 35,
   "metadata": {},
   "outputs": [],
   "source": [
    "def transcript_to_text(input_file):\n",
    "    # Access folder in filesystem\n",
    "\n",
    "    # After parsing content of file, move to next file\n",
    "\n",
    "    # Declare variable empty list\n",
    "    lineList = []\n",
    "\n",
    "    # read file line by line\n",
    "    file = open(input_file, \"r\")\n",
    "    lines = file.readlines()\n",
    "    file.close()\n",
    "\n",
    "    # look for patterns and parse\n",
    "\n",
    "    # Remove blank lines from file\n",
    "    lines = [line for line in lines if line.strip() != \"\"]\n",
    "\n",
    "    # Discount first and second line of each segment using a match pattern\n",
    "    for line in lines[2::2]:\n",
    "        line = line.strip()\n",
    "\n",
    "        # store all text into a list\n",
    "        lineList.append(line)\n",
    "\n",
    "    # Finish with list.join() to bring everything together\n",
    "    text = \"\".join(lineList)\n",
    "\n",
    "    return text"
   ]
  },
  {
   "cell_type": "code",
   "execution_count": 42,
   "metadata": {},
   "outputs": [],
   "source": [
    "base_dir = (\n",
    "    \"/mnt/c/Users/josep/Documents/DocumentsWSL/acse-msc/module-8-parallel-patterns/\"\n",
    ")\n",
    "file = \"transcript_2024-05-07_blocking_point_to_point_communication.txt\"\n",
    "result = transcript_to_text(base_dir + file)"
   ]
  },
  {
   "cell_type": "code",
   "execution_count": 43,
   "metadata": {},
   "outputs": [],
   "source": [
    "result = result.replace(\"<v Teams Room - RSM 151>\", \"\")\n",
    "result = result.replace(\"<v Neethling, Stephen>\", \"\")\n",
    "result = result.replace(\"</v>\", \"\")"
   ]
  },
  {
   "cell_type": "code",
   "execution_count": null,
   "metadata": {},
   "outputs": [],
   "source": [
    "# import markdown from ipython.display\n",
    "from IPython.display import Markdown\n",
    "\n",
    "Markdown(result)"
   ]
  },
  {
   "cell_type": "code",
   "execution_count": null,
   "metadata": {},
   "outputs": [],
   "source": []
  },
  {
   "cell_type": "code",
   "execution_count": null,
   "metadata": {},
   "outputs": [],
   "source": []
  }
 ],
 "metadata": {
  "kernelspec": {
   "display_name": "sanctum-cognitionis",
   "language": "python",
   "name": "python3"
  },
  "language_info": {
   "codemirror_mode": {
    "name": "ipython",
    "version": 3
   },
   "file_extension": ".py",
   "mimetype": "text/x-python",
   "name": "python",
   "nbconvert_exporter": "python",
   "pygments_lexer": "ipython3",
   "version": "3.10.14"
  }
 },
 "nbformat": 4,
 "nbformat_minor": 2
}
